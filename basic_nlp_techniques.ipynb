{
  "nbformat": 4,
  "nbformat_minor": 0,
  "metadata": {
    "colab": {
      "name": "basic_nlp_techniques.ipynb",
      "provenance": []
    },
    "kernelspec": {
      "name": "python3",
      "display_name": "Python 3"
    },
    "language_info": {
      "name": "python"
    }
  },
  "cells": [
    {
      "cell_type": "markdown",
      "source": [
        "TOKENIZATION"
      ],
      "metadata": {
        "id": "zzu5soDblX45"
      }
    },
    {
      "cell_type": "markdown",
      "source": [
        "WORD TOKENIZATION"
      ],
      "metadata": {
        "id": "8JwOJdV_mO3I"
      }
    },
    {
      "cell_type": "code",
      "source": [
        "text = \"I am pradeepa\"\n",
        "text.split()"
      ],
      "metadata": {
        "colab": {
          "base_uri": "https://localhost:8080/"
        },
        "id": "RuYSLB4vnhKy",
        "outputId": "75296d24-a327-4f01-db77-b630dae12829"
      },
      "execution_count": 1,
      "outputs": [
        {
          "output_type": "execute_result",
          "data": {
            "text/plain": [
              "['I', 'am', 'pradeepa']"
            ]
          },
          "metadata": {},
          "execution_count": 1
        }
      ]
    },
    {
      "cell_type": "code",
      "source": [
        "text = \"Natural language processing is the driving force behind machine intelligence . NLP refers to the branch of artificial intelligence.\"\n",
        "text.split(' . ') "
      ],
      "metadata": {
        "colab": {
          "base_uri": "https://localhost:8080/"
        },
        "id": "62CIRFlUldNv",
        "outputId": "b02e023b-2c1f-4742-b0be-73e1e9b61245"
      },
      "execution_count": 2,
      "outputs": [
        {
          "output_type": "execute_result",
          "data": {
            "text/plain": [
              "['Natural language processing is the driving force behind machine intelligence',\n",
              " 'NLP refers to the branch of artificial intelligence.']"
            ]
          },
          "metadata": {},
          "execution_count": 2
        }
      ]
    },
    {
      "cell_type": "markdown",
      "source": [
        "TOKENIZATION USING REGULAR EXPRESSION (re)"
      ],
      "metadata": {
        "id": "ArhhNHd0o4hE"
      }
    },
    {
      "cell_type": "code",
      "execution_count": 3,
      "metadata": {
        "id": "Qr6CBuzNkFow"
      },
      "outputs": [],
      "source": [
        "import re"
      ]
    },
    {
      "cell_type": "code",
      "source": [
        "text = \"Natural language processing is the driving force behind machine intelligence . NLP refers to the branch of artificial intelligence.\"\n",
        "text= re.compile('[.?!]').split(text)\n",
        "text"
      ],
      "metadata": {
        "id": "0NJ8p6zQpCBZ",
        "colab": {
          "base_uri": "https://localhost:8080/"
        },
        "outputId": "b46ba279-7fa1-4f7e-96da-69657fcc8411"
      },
      "execution_count": 4,
      "outputs": [
        {
          "output_type": "execute_result",
          "data": {
            "text/plain": [
              "['Natural language processing is the driving force behind machine intelligence ',\n",
              " ' NLP refers to the branch of artificial intelligence',\n",
              " '']"
            ]
          },
          "metadata": {},
          "execution_count": 4
        }
      ]
    },
    {
      "cell_type": "markdown",
      "source": [
        "TOKENIZATION USING NLTK"
      ],
      "metadata": {
        "id": "Rmsw5VUf-tNa"
      }
    },
    {
      "cell_type": "code",
      "source": [
        "import nltk"
      ],
      "metadata": {
        "id": "a_LwvSzz_vKh"
      },
      "execution_count": 5,
      "outputs": []
    },
    {
      "cell_type": "code",
      "source": [
        "from nltk.tokenize import word_tokenize"
      ],
      "metadata": {
        "id": "QEsewhdQ-yp1"
      },
      "execution_count": 6,
      "outputs": []
    },
    {
      "cell_type": "code",
      "source": [
        "nltk.download(\"punkt\")"
      ],
      "metadata": {
        "colab": {
          "base_uri": "https://localhost:8080/"
        },
        "id": "2VWWA9vN_oJD",
        "outputId": "c41de848-36a5-4cc9-f476-4191ce09ad9d"
      },
      "execution_count": 7,
      "outputs": [
        {
          "output_type": "stream",
          "name": "stdout",
          "text": [
            "[nltk_data] Downloading package punkt to /root/nltk_data...\n",
            "[nltk_data]   Unzipping tokenizers/punkt.zip.\n"
          ]
        },
        {
          "output_type": "execute_result",
          "data": {
            "text/plain": [
              "True"
            ]
          },
          "metadata": {},
          "execution_count": 7
        }
      ]
    },
    {
      "cell_type": "code",
      "source": [
        "text = \"Natural language processing is the driving force behind machine intelligence . NLP refers to the branch of artificial intelligence.\"\n",
        "word_tokenize(text)"
      ],
      "metadata": {
        "colab": {
          "base_uri": "https://localhost:8080/"
        },
        "id": "IPSzsb0W-hzG",
        "outputId": "ba61708f-9e30-421b-e311-3f4f004637e5"
      },
      "execution_count": 8,
      "outputs": [
        {
          "output_type": "execute_result",
          "data": {
            "text/plain": [
              "['Natural',\n",
              " 'language',\n",
              " 'processing',\n",
              " 'is',\n",
              " 'the',\n",
              " 'driving',\n",
              " 'force',\n",
              " 'behind',\n",
              " 'machine',\n",
              " 'intelligence',\n",
              " '.',\n",
              " 'NLP',\n",
              " 'refers',\n",
              " 'to',\n",
              " 'the',\n",
              " 'branch',\n",
              " 'of',\n",
              " 'artificial',\n",
              " 'intelligence',\n",
              " '.']"
            ]
          },
          "metadata": {},
          "execution_count": 8
        }
      ]
    },
    {
      "cell_type": "code",
      "source": [
        "from nltk.tokenize import sent_tokenize\n",
        "text = \"Natural language processing is the driving force behind machine intelligence . NLP refers to the branch of artificial intelligence.\"\n",
        "sent_tokenize(text)"
      ],
      "metadata": {
        "colab": {
          "base_uri": "https://localhost:8080/"
        },
        "id": "tmt_Oc4n_dc2",
        "outputId": "40fa3781-bd02-43bc-ac6b-c7165b6e16f3"
      },
      "execution_count": 9,
      "outputs": [
        {
          "output_type": "execute_result",
          "data": {
            "text/plain": [
              "['Natural language processing is the driving force behind machine intelligence .',\n",
              " 'NLP refers to the branch of artificial intelligence.']"
            ]
          },
          "metadata": {},
          "execution_count": 9
        }
      ]
    },
    {
      "cell_type": "markdown",
      "source": [
        "TOKENIZATION USING KERAS"
      ],
      "metadata": {
        "id": "hfBTuKGiAXXg"
      }
    },
    {
      "cell_type": "code",
      "source": [
        "import keras"
      ],
      "metadata": {
        "id": "HM_AJOx-Ac-n"
      },
      "execution_count": 10,
      "outputs": []
    },
    {
      "cell_type": "code",
      "source": [
        "from keras.preprocessing.text import text_to_word_sequence\n",
        "text = \"Natural language processing is the driving force behind machine intelligence . NLP refers to the branch of artificial intelligence.\"\n",
        "text1 = text_to_word_sequence(text)\n",
        "text1"
      ],
      "metadata": {
        "colab": {
          "base_uri": "https://localhost:8080/"
        },
        "id": "6DLJtcJBAIX9",
        "outputId": "eb758605-b421-402c-f61a-c17a8e6bb1db"
      },
      "execution_count": 11,
      "outputs": [
        {
          "output_type": "execute_result",
          "data": {
            "text/plain": [
              "['natural',\n",
              " 'language',\n",
              " 'processing',\n",
              " 'is',\n",
              " 'the',\n",
              " 'driving',\n",
              " 'force',\n",
              " 'behind',\n",
              " 'machine',\n",
              " 'intelligence',\n",
              " 'nlp',\n",
              " 'refers',\n",
              " 'to',\n",
              " 'the',\n",
              " 'branch',\n",
              " 'of',\n",
              " 'artificial',\n",
              " 'intelligence']"
            ]
          },
          "metadata": {},
          "execution_count": 11
        }
      ]
    },
    {
      "cell_type": "markdown",
      "source": [
        "TOKENIZATION USING GENSIM"
      ],
      "metadata": {
        "id": "SMIqdY4bCU-Z"
      }
    },
    {
      "cell_type": "code",
      "source": [
        "import gensim"
      ],
      "metadata": {
        "id": "BcnwhWgXCa26"
      },
      "execution_count": 12,
      "outputs": []
    },
    {
      "cell_type": "code",
      "source": [
        "from gensim.utils import tokenize"
      ],
      "metadata": {
        "id": "kwsbjhAXCPPs"
      },
      "execution_count": 13,
      "outputs": []
    },
    {
      "cell_type": "code",
      "source": [
        "text = \"Natural language processing is the driving force behind machine intelligence . NLP refers to the branch of artificial intelligence.\"\n",
        "list(tokenize(text))"
      ],
      "metadata": {
        "colab": {
          "base_uri": "https://localhost:8080/"
        },
        "id": "u8LJ6loICkXx",
        "outputId": "d109425c-a3c1-4833-b5d7-891ead7ed224"
      },
      "execution_count": 14,
      "outputs": [
        {
          "output_type": "execute_result",
          "data": {
            "text/plain": [
              "['Natural',\n",
              " 'language',\n",
              " 'processing',\n",
              " 'is',\n",
              " 'the',\n",
              " 'driving',\n",
              " 'force',\n",
              " 'behind',\n",
              " 'machine',\n",
              " 'intelligence',\n",
              " 'NLP',\n",
              " 'refers',\n",
              " 'to',\n",
              " 'the',\n",
              " 'branch',\n",
              " 'of',\n",
              " 'artificial',\n",
              " 'intelligence']"
            ]
          },
          "metadata": {},
          "execution_count": 14
        }
      ]
    },
    {
      "cell_type": "markdown",
      "source": [
        "STEMMING"
      ],
      "metadata": {
        "id": "E4Vc1nwqDqsQ"
      }
    },
    {
      "cell_type": "markdown",
      "source": [
        "PORTER STEMMER()"
      ],
      "metadata": {
        "id": "kSmt9w4LD7xK"
      }
    },
    {
      "cell_type": "code",
      "source": [
        "from nltk.stem import PorterStemmer\n",
        "porter = PorterStemmer()\n",
        "words = ['Connects','Connecting','Connected','Connections']\n",
        "for word in words:\n",
        "    print(word,\"--->\",porter.stem(word))"
      ],
      "metadata": {
        "colab": {
          "base_uri": "https://localhost:8080/"
        },
        "id": "7_62WtZcECQQ",
        "outputId": "d05262ef-5b6b-4c98-ebd1-219de98a4613"
      },
      "execution_count": 15,
      "outputs": [
        {
          "output_type": "stream",
          "name": "stdout",
          "text": [
            "Connects ---> connect\n",
            "Connecting ---> connect\n",
            "Connected ---> connect\n",
            "Connections ---> connect\n"
          ]
        }
      ]
    },
    {
      "cell_type": "markdown",
      "source": [
        "SNOWBALL STEMMER()"
      ],
      "metadata": {
        "id": "Dqfm2SSCEVrq"
      }
    },
    {
      "cell_type": "code",
      "source": [
        "from nltk.stem import SnowballStemmer\n",
        "snowball = SnowballStemmer(language='english')\n",
        "words = ['generous','generate','generously','generation']\n",
        "for word in words:\n",
        "    print(word,\"--->\",snowball.stem(word))"
      ],
      "metadata": {
        "colab": {
          "base_uri": "https://localhost:8080/"
        },
        "id": "2LdRvGiyEZt8",
        "outputId": "9224e4f1-259e-40b5-dbe7-65d94d02685b"
      },
      "execution_count": 16,
      "outputs": [
        {
          "output_type": "stream",
          "name": "stdout",
          "text": [
            "generous ---> generous\n",
            "generate ---> generat\n",
            "generously ---> generous\n",
            "generation ---> generat\n"
          ]
        }
      ]
    },
    {
      "cell_type": "markdown",
      "source": [
        "LANCASTER STEMMER()"
      ],
      "metadata": {
        "id": "ZzFszH_4Eif7"
      }
    },
    {
      "cell_type": "code",
      "source": [
        "from nltk.stem import LancasterStemmer\n",
        "lancaster = LancasterStemmer()\n",
        "words = ['eating','eats','eaten','puts','putting']\n",
        "for word in words:\n",
        "    print(word,\"--->\",lancaster.stem(word))"
      ],
      "metadata": {
        "colab": {
          "base_uri": "https://localhost:8080/"
        },
        "id": "OClH1OZiDt0w",
        "outputId": "aca2b6da-9c61-4445-ddc2-b26b683663bb"
      },
      "execution_count": 17,
      "outputs": [
        {
          "output_type": "stream",
          "name": "stdout",
          "text": [
            "eating ---> eat\n",
            "eats ---> eat\n",
            "eaten ---> eat\n",
            "puts ---> put\n",
            "putting ---> put\n"
          ]
        }
      ]
    },
    {
      "cell_type": "markdown",
      "source": [
        "LEMMATIZATION"
      ],
      "metadata": {
        "id": "K3CBNFWeFbRA"
      }
    },
    {
      "cell_type": "code",
      "source": [
        "from textblob import TextBlob,Word"
      ],
      "metadata": {
        "id": "NtxEejf-Cvao"
      },
      "execution_count": 18,
      "outputs": []
    },
    {
      "cell_type": "code",
      "source": [
        "nltk.download('wordnet')"
      ],
      "metadata": {
        "colab": {
          "base_uri": "https://localhost:8080/"
        },
        "id": "7QzCSdTBDs8Q",
        "outputId": "c7b9da6a-1e56-4cdf-d4f6-34ab062a4384"
      },
      "execution_count": 19,
      "outputs": [
        {
          "output_type": "stream",
          "name": "stdout",
          "text": [
            "[nltk_data] Downloading package wordnet to /root/nltk_data...\n",
            "[nltk_data]   Unzipping corpora/wordnet.zip.\n"
          ]
        },
        {
          "output_type": "execute_result",
          "data": {
            "text/plain": [
              "True"
            ]
          },
          "metadata": {},
          "execution_count": 19
        }
      ]
    },
    {
      "cell_type": "code",
      "source": [
        "listofwords = ['Connecting' , 'Puts' , 'Generation' , 'Refers']"
      ],
      "metadata": {
        "id": "FP1MMuifFiyR"
      },
      "execution_count": 20,
      "outputs": []
    },
    {
      "cell_type": "code",
      "source": [
        "for word in listofwords:\n",
        "  w = Word(word)\n",
        "  print(word + '--->' + w.lemmatize())"
      ],
      "metadata": {
        "colab": {
          "base_uri": "https://localhost:8080/"
        },
        "id": "2S5uZ6xsF3YX",
        "outputId": "b8dc0cf1-4ffe-46eb-c9ad-5d0c9396c60e"
      },
      "execution_count": 21,
      "outputs": [
        {
          "output_type": "stream",
          "name": "stdout",
          "text": [
            "Connecting--->Connecting\n",
            "Puts--->Puts\n",
            "Generation--->Generation\n",
            "Refers--->Refers\n"
          ]
        }
      ]
    },
    {
      "cell_type": "code",
      "source": [
        "from nltk.stem import WordNetLemmatizer"
      ],
      "metadata": {
        "id": "qcrzxn_hF68q"
      },
      "execution_count": 22,
      "outputs": []
    },
    {
      "cell_type": "code",
      "source": [
        "wn1=WordNetLemmatizer()"
      ],
      "metadata": {
        "id": "iS3EMJ8OF_-P"
      },
      "execution_count": 23,
      "outputs": []
    },
    {
      "cell_type": "code",
      "source": [
        "for words in listofwords:\n",
        "  print(words + '--->' + wn1.lemmatize(words))"
      ],
      "metadata": {
        "colab": {
          "base_uri": "https://localhost:8080/"
        },
        "id": "TiR9IAhiGDMS",
        "outputId": "54e081ad-c527-415c-b884-a2afd12ab73f"
      },
      "execution_count": 24,
      "outputs": [
        {
          "output_type": "stream",
          "name": "stdout",
          "text": [
            "Connecting--->Connecting\n",
            "Puts--->Puts\n",
            "Generation--->Generation\n",
            "Refers--->Refers\n"
          ]
        }
      ]
    },
    {
      "cell_type": "markdown",
      "source": [
        "COSINE SIMILARITIES"
      ],
      "metadata": {
        "id": "H5jeEk3mGimp"
      }
    },
    {
      "cell_type": "code",
      "source": [
        "import en_core_web_sm"
      ],
      "metadata": {
        "id": "mcOj3M4SGHV-"
      },
      "execution_count": 25,
      "outputs": []
    },
    {
      "cell_type": "code",
      "source": [
        "nlp = en_core_web_sm.load()"
      ],
      "metadata": {
        "id": "FLCPz2itGodC"
      },
      "execution_count": 26,
      "outputs": []
    },
    {
      "cell_type": "code",
      "source": [
        "sent1 = nlp(\"I like to open my mind, but my mouth in a general discussion.\")\n",
        "sent2 = nlp(\"I like to open my mind, but not my mouth in a general discussion.\")\n",
        "print(sent2.similarity(sent1))"
      ],
      "metadata": {
        "colab": {
          "base_uri": "https://localhost:8080/"
        },
        "id": "1BLGTXPHGreK",
        "outputId": "d85ece80-cd2a-4a18-a582-c4f29888f896"
      },
      "execution_count": 27,
      "outputs": [
        {
          "output_type": "stream",
          "name": "stdout",
          "text": [
            "0.9661457898093567\n"
          ]
        },
        {
          "output_type": "stream",
          "name": "stderr",
          "text": [
            "/usr/lib/python3.7/runpy.py:193: ModelsWarning: [W007] The model you're using has no word vectors loaded, so the result of the Doc.similarity method will be based on the tagger, parser and NER, which may not give useful similarity judgements. This may happen if you're using one of the small models, e.g. `en_core_web_sm`, which don't ship with word vectors and only use context-sensitive tensors. You can always add your own word vectors, or use one of the larger models instead if available.\n",
            "  \"__main__\", mod_spec)\n"
          ]
        }
      ]
    },
    {
      "cell_type": "code",
      "source": [
        "nltk.download('stopwords')"
      ],
      "metadata": {
        "colab": {
          "base_uri": "https://localhost:8080/"
        },
        "id": "rGT4nk3NHYzN",
        "outputId": "a6f7a32c-dc98-4b6d-c946-886166ef1312"
      },
      "execution_count": 28,
      "outputs": [
        {
          "output_type": "stream",
          "name": "stdout",
          "text": [
            "[nltk_data] Downloading package stopwords to /root/nltk_data...\n",
            "[nltk_data]   Unzipping corpora/stopwords.zip.\n"
          ]
        },
        {
          "output_type": "execute_result",
          "data": {
            "text/plain": [
              "True"
            ]
          },
          "metadata": {},
          "execution_count": 28
        }
      ]
    },
    {
      "cell_type": "code",
      "source": [
        "import nltk\n",
        "from nltk.corpus import stopwords"
      ],
      "metadata": {
        "id": "nFVBUBThHZkz"
      },
      "execution_count": 29,
      "outputs": []
    },
    {
      "cell_type": "code",
      "source": [
        "print(stopwords.words('english'))"
      ],
      "metadata": {
        "colab": {
          "base_uri": "https://localhost:8080/"
        },
        "id": "jpxIsvYeHc9g",
        "outputId": "3b703cc1-75f8-4125-85a4-6162854d013b"
      },
      "execution_count": 30,
      "outputs": [
        {
          "output_type": "stream",
          "name": "stdout",
          "text": [
            "['i', 'me', 'my', 'myself', 'we', 'our', 'ours', 'ourselves', 'you', \"you're\", \"you've\", \"you'll\", \"you'd\", 'your', 'yours', 'yourself', 'yourselves', 'he', 'him', 'his', 'himself', 'she', \"she's\", 'her', 'hers', 'herself', 'it', \"it's\", 'its', 'itself', 'they', 'them', 'their', 'theirs', 'themselves', 'what', 'which', 'who', 'whom', 'this', 'that', \"that'll\", 'these', 'those', 'am', 'is', 'are', 'was', 'were', 'be', 'been', 'being', 'have', 'has', 'had', 'having', 'do', 'does', 'did', 'doing', 'a', 'an', 'the', 'and', 'but', 'if', 'or', 'because', 'as', 'until', 'while', 'of', 'at', 'by', 'for', 'with', 'about', 'against', 'between', 'into', 'through', 'during', 'before', 'after', 'above', 'below', 'to', 'from', 'up', 'down', 'in', 'out', 'on', 'off', 'over', 'under', 'again', 'further', 'then', 'once', 'here', 'there', 'when', 'where', 'why', 'how', 'all', 'any', 'both', 'each', 'few', 'more', 'most', 'other', 'some', 'such', 'no', 'nor', 'not', 'only', 'own', 'same', 'so', 'than', 'too', 'very', 's', 't', 'can', 'will', 'just', 'don', \"don't\", 'should', \"should've\", 'now', 'd', 'll', 'm', 'o', 're', 've', 'y', 'ain', 'aren', \"aren't\", 'couldn', \"couldn't\", 'didn', \"didn't\", 'doesn', \"doesn't\", 'hadn', \"hadn't\", 'hasn', \"hasn't\", 'haven', \"haven't\", 'isn', \"isn't\", 'ma', 'mightn', \"mightn't\", 'mustn', \"mustn't\", 'needn', \"needn't\", 'shan', \"shan't\", 'shouldn', \"shouldn't\", 'wasn', \"wasn't\", 'weren', \"weren't\", 'won', \"won't\", 'wouldn', \"wouldn't\"]\n"
          ]
        }
      ]
    },
    {
      "cell_type": "code",
      "source": [
        "stop_words = set(stopwords.words('english'))\n",
        "from nltk.tokenize import word_tokenize\n",
        "word_tokens_1= word_tokenize(\"I like to open my mind, but my mouth in a general discussion.\")\n",
        "word_tokens_1"
      ],
      "metadata": {
        "colab": {
          "base_uri": "https://localhost:8080/"
        },
        "id": "TzneMx5_HhYy",
        "outputId": "ca8aa018-417b-44f2-cccc-86f64fc27acd"
      },
      "execution_count": 31,
      "outputs": [
        {
          "output_type": "execute_result",
          "data": {
            "text/plain": [
              "['I',\n",
              " 'like',\n",
              " 'to',\n",
              " 'open',\n",
              " 'my',\n",
              " 'mind',\n",
              " ',',\n",
              " 'but',\n",
              " 'my',\n",
              " 'mouth',\n",
              " 'in',\n",
              " 'a',\n",
              " 'general',\n",
              " 'discussion',\n",
              " '.']"
            ]
          },
          "metadata": {},
          "execution_count": 31
        }
      ]
    },
    {
      "cell_type": "code",
      "source": [
        "new_sent_1=[w for w in word_tokens_1 if w.lower() not in stop_words]\n",
        "new_sent_1 = ' '.join(str(elem) for elem in new_sent_1)\n",
        "print(new_sent_1)"
      ],
      "metadata": {
        "colab": {
          "base_uri": "https://localhost:8080/"
        },
        "id": "pkmfZsH4ICBP",
        "outputId": "9c35534e-0e97-4765-8a7f-fa1290f4c692"
      },
      "execution_count": 32,
      "outputs": [
        {
          "output_type": "stream",
          "name": "stdout",
          "text": [
            "like open mind , mouth general discussion .\n"
          ]
        }
      ]
    },
    {
      "cell_type": "code",
      "source": [
        "word_tokens_2= word_tokenize(\"I like to open my mind, but not my mouth in a general discussion.\")\n",
        "new_sent_2=[w for w in word_tokens_1 if w.lower() not in stop_words]\n",
        "new_sent_2 = ' '.join(str(elem) for elem in new_sent_2)\n",
        "print(new_sent_2)"
      ],
      "metadata": {
        "colab": {
          "base_uri": "https://localhost:8080/"
        },
        "id": "SQBAiF6HIcCq",
        "outputId": "368904e4-7d6b-499e-8e3a-e95f570232cd"
      },
      "execution_count": 33,
      "outputs": [
        {
          "output_type": "stream",
          "name": "stdout",
          "text": [
            "like open mind , mouth general discussion .\n"
          ]
        }
      ]
    },
    {
      "cell_type": "code",
      "source": [
        "new_sent_1 = nlp(new_sent_1)\n",
        "new_sent_2 = nlp(new_sent_2)\n",
        "print(new_sent_2.similarity(new_sent_1))\n"
      ],
      "metadata": {
        "id": "DnQ06GD9IluV",
        "outputId": "88b4f94a-6577-44d8-af4c-0da8c9314c11",
        "colab": {
          "base_uri": "https://localhost:8080/"
        }
      },
      "execution_count": 34,
      "outputs": [
        {
          "output_type": "stream",
          "name": "stdout",
          "text": [
            "1.0\n"
          ]
        }
      ]
    }
  ]
}